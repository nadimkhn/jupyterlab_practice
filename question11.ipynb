{
 "cells": [
  {
   "cell_type": "markdown",
   "id": "85d17edc-e842-4d32-b00c-8184d67d4a5e",
   "metadata": {},
   "source": [
    "# Nadim Khan\n",
    "Notebook for assingment 7"
   ]
  },
  {
   "cell_type": "code",
   "execution_count": 1,
   "id": "d3d45000-3132-4810-b2fe-df5c4b634e9d",
   "metadata": {},
   "outputs": [
    {
     "name": "stdout",
     "output_type": "stream",
     "text": [
      "5.0\n"
     ]
    }
   ],
   "source": [
    "def compute_mean(num_list):\n",
    "    print(sum(num_list)/len(num_list))\n",
    "\n",
    "compute_mean([2,4,6,8])"
   ]
  },
  {
   "cell_type": "markdown",
   "id": "4ba1ac8f-4703-4d03-b09c-b937d3b35264",
   "metadata": {},
   "source": [
    "The above code cell calculates the arithmetic mean of a list of numbers by calculating the sum of all numeric elements and dividing it by number of elements present in the list.\n",
    "The above function is expressed as a mathematical equation below:\n",
    "\n",
    "$$\n",
    "\\bar{x} = \\frac{x_{1}+x_{2}+x_{3}+\\cdot\\cdot\\cdot+x_{n}}{n} = \\frac{1}{n}\\left(\\sum_{i=1}^{n}x_{i}\\right)\n",
    "$$\n"
   ]
  }
 ],
 "metadata": {
  "kernelspec": {
   "display_name": "Python [conda env:jupyterlab_env]",
   "language": "python",
   "name": "conda-env-jupyterlab_env-py"
  },
  "language_info": {
   "codemirror_mode": {
    "name": "ipython",
    "version": 3
   },
   "file_extension": ".py",
   "mimetype": "text/x-python",
   "name": "python",
   "nbconvert_exporter": "python",
   "pygments_lexer": "ipython3",
   "version": "3.13.2"
  }
 },
 "nbformat": 4,
 "nbformat_minor": 5
}
